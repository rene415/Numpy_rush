{
 "cells": [
  {
   "cell_type": "markdown",
   "metadata": {},
   "source": [
    "wfung\n",
    "rramirez"
   ]
  },
  {
   "cell_type": "code",
   "execution_count": 23,
   "metadata": {},
   "outputs": [
    {
     "name": "stdout",
     "output_type": "stream",
     "text": [
      "[ 0  1  2  3  4  5  6  7  8  9 10 11 12 13 14 15 16 17 18]\n"
     ]
    }
   ],
   "source": [
    "#1\n",
    "import numpy as np\n",
    "x = np.arange(19)\n",
    "print(x)"
   ]
  },
  {
   "cell_type": "code",
   "execution_count": 25,
   "metadata": {},
   "outputs": [
    {
     "name": "stdout",
     "output_type": "stream",
     "text": [
      "[ 0  1  2  3  4  5  6  7  8  9 10 11]\n",
      "[[ 0  1  2]\n",
      " [ 3  4  5]\n",
      " [ 6  7  8]\n",
      " [ 9 10 11]]\n"
     ]
    }
   ],
   "source": [
    "#2\n",
    "import numpy as np\n",
    "x = np.arange(12)\n",
    "grid = x.reshape(4,3)\n",
    "print(grid)"
   ]
  },
  {
   "cell_type": "code",
   "execution_count": 8,
   "metadata": {},
   "outputs": [
    {
     "ename": "ImportError",
     "evalue": "bad magic number in 'numpy': b'\\x03\\xf3\\r\\n'",
     "output_type": "error",
     "traceback": [
      "\u001b[0;31m---------------------------------------------------------------------------\u001b[0m",
      "\u001b[0;31mImportError\u001b[0m                               Traceback (most recent call last)",
      "\u001b[0;32m<ipython-input-8-c46a65c8385c>\u001b[0m in \u001b[0;36m<module>\u001b[0;34m()\u001b[0m\n\u001b[1;32m      1\u001b[0m \u001b[0;31m#3\u001b[0m\u001b[0;34m\u001b[0m\u001b[0;34m\u001b[0m\u001b[0m\n\u001b[0;32m----> 2\u001b[0;31m \u001b[0;32mimport\u001b[0m \u001b[0mnumpy\u001b[0m \u001b[0;32mas\u001b[0m \u001b[0mnp\u001b[0m\u001b[0;34m\u001b[0m\u001b[0m\n\u001b[0m\u001b[1;32m      3\u001b[0m \u001b[0;34m\u001b[0m\u001b[0m\n\u001b[1;32m      4\u001b[0m \u001b[0;32mdef\u001b[0m \u001b[0mntimes\u001b[0m\u001b[0;34m(\u001b[0m\u001b[0mn\u001b[0m\u001b[0;34m)\u001b[0m\u001b[0;34m:\u001b[0m\u001b[0;34m\u001b[0m\u001b[0m\n\u001b[1;32m      5\u001b[0m     \u001b[0mx\u001b[0m \u001b[0;34m=\u001b[0m \u001b[0mnp\u001b[0m\u001b[0;34m.\u001b[0m\u001b[0mlinspace\u001b[0m\u001b[0;34m(\u001b[0m\u001b[0;36m0\u001b[0m \u001b[0;34m,\u001b[0m \u001b[0;36m1\u001b[0m \u001b[0;34m,\u001b[0m \u001b[0mnum\u001b[0m\u001b[0;34m=\u001b[0m\u001b[0mn\u001b[0m\u001b[0;34m)\u001b[0m\u001b[0;34m\u001b[0m\u001b[0m\n",
      "\u001b[0;31mImportError\u001b[0m: bad magic number in 'numpy': b'\\x03\\xf3\\r\\n'"
     ]
    }
   ],
   "source": [
    "#3\n",
    "import numpy as np\n",
    "\n",
    "def ntimes(n):\n",
    "    x = np.linspace(0 , 1 , num=n)\n",
    "    return(x)"
   ]
  },
  {
   "cell_type": "code",
   "execution_count": 9,
   "metadata": {},
   "outputs": [
    {
     "ename": "ImportError",
     "evalue": "bad magic number in 'numpy': b'\\x03\\xf3\\r\\n'",
     "output_type": "error",
     "traceback": [
      "\u001b[0;31m---------------------------------------------------------------------------\u001b[0m",
      "\u001b[0;31mImportError\u001b[0m                               Traceback (most recent call last)",
      "\u001b[0;32m<ipython-input-9-1fd901b7e576>\u001b[0m in \u001b[0;36m<module>\u001b[0;34m()\u001b[0m\n\u001b[1;32m      1\u001b[0m \u001b[0;31m#4\u001b[0m\u001b[0;34m\u001b[0m\u001b[0;34m\u001b[0m\u001b[0m\n\u001b[0;32m----> 2\u001b[0;31m \u001b[0;32mimport\u001b[0m \u001b[0mnumpy\u001b[0m \u001b[0;32mas\u001b[0m \u001b[0mnp\u001b[0m\u001b[0;34m\u001b[0m\u001b[0m\n\u001b[0m\u001b[1;32m      3\u001b[0m \u001b[0;34m\u001b[0m\u001b[0m\n\u001b[1;32m      4\u001b[0m \u001b[0;32mdef\u001b[0m \u001b[0mgridntimes\u001b[0m\u001b[0;34m(\u001b[0m\u001b[0ma\u001b[0m\u001b[0;34m,\u001b[0m\u001b[0mb\u001b[0m\u001b[0;34m)\u001b[0m\u001b[0;34m:\u001b[0m\u001b[0;34m\u001b[0m\u001b[0m\n\u001b[1;32m      5\u001b[0m     \u001b[0mx\u001b[0m \u001b[0;34m=\u001b[0m \u001b[0mnp\u001b[0m\u001b[0;34m.\u001b[0m\u001b[0marange\u001b[0m\u001b[0;34m(\u001b[0m\u001b[0;34m(\u001b[0m\u001b[0ma\u001b[0m\u001b[0;34m*\u001b[0m\u001b[0mb\u001b[0m\u001b[0;34m)\u001b[0m\u001b[0;34m)\u001b[0m\u001b[0;34m\u001b[0m\u001b[0m\n",
      "\u001b[0;31mImportError\u001b[0m: bad magic number in 'numpy': b'\\x03\\xf3\\r\\n'"
     ]
    }
   ],
   "source": [
    "#4\n",
    "import numpy as np\n",
    "\n",
    "def gridntimes(a,b):\n",
    "    x = np.arange((a*b))\n",
    "    x = x.reshape(a,b)[0:5, 7:12]\n",
    "    return(x)\n",
    "#user inputs for a & b\n",
    "y = gridntimes(10,12)\n",
    "print(y)"
   ]
  },
  {
   "cell_type": "code",
   "execution_count": 221,
   "metadata": {},
   "outputs": [
    {
     "name": "stdout",
     "output_type": "stream",
     "text": [
      "(128, 128, 4)\n",
      "width:  10\n",
      "height:  15\n"
     ]
    },
    {
     "data": {
      "text/plain": [
       "<matplotlib.image.AxesImage at 0x7f16100f7978>"
      ]
     },
     "execution_count": 221,
     "metadata": {},
     "output_type": "execute_result"
    },
    {
     "data": {
      "image/png": "[encoded data removed]",
      "text/plain": [
       "<matplotlib.figure.Figure at 0x7f161035cf28>"
      ]
     },
     "metadata": {},
     "output_type": "display_data"
    }
   ],
   "source": [
    "#5\n",
    "%matplotlib inline\n",
    "import matplotlib.pyplot as plt\n",
    "import numpy as np\n",
    "\n",
    "#user can change width and height\n",
    "width = 10\n",
    "height = 15\n",
    "\n",
    "def ntimes(n):\n",
    "    x = np.linspace(0, 1, n)\n",
    "    x.shape = (1,n)\n",
    "    return (x)\n",
    "\n",
    "def concat_arr(height, width):\n",
    "    base = ntimes(width)\n",
    "    for _ in range(0, height-1):\n",
    "        new = ntimes(width)\n",
    "        base = np.concatenate((base, new), axis=0)\n",
    "    return(base)\n",
    "\n",
    "final_array = concat_arr(width, height)\n",
    "plt.imshow(final_array)"
   ]
  },
  {
   "cell_type": "code",
   "execution_count": 222,
   "metadata": {},
   "outputs": [
    {
     "name": "stdout",
     "output_type": "stream",
     "text": [
      "(128, 128, 4)\n",
      "width:  128\n",
      "height:  128\n",
      "[[ 0.          0.00787402  0.01574803 ...,  0.98425197  0.99212598  1.        ]\n",
      " [ 0.          0.00787402  0.01574803 ...,  0.98425197  0.99212598  1.        ]\n",
      " [ 0.          0.00787402  0.01574803 ...,  0.98425197  0.99212598  1.        ]\n",
      " ..., \n",
      " [ 0.          0.00787402  0.01574803 ...,  0.98425197  0.99212598  1.        ]\n",
      " [ 0.          0.00787402  0.01574803 ...,  0.98425197  0.99212598  1.        ]\n",
      " [ 0.          0.00787402  0.01574803 ...,  0.98425197  0.99212598  1.        ]]\n",
      "128\n"
     ]
    },
    {
     "data": {
      "text/plain": [
       "<matplotlib.image.AxesImage at 0x7f16100d6dd8>"
      ]
     },
     "execution_count": 222,
     "metadata": {},
     "output_type": "execute_result"
    },
    {
     "data": {
      "image/png": "[encoded data removed]",
      "text/plain": [
       "<matplotlib.figure.Figure at 0x7f16101215f8>"
      ]
     },
     "metadata": {},
     "output_type": "display_data"
    }
   ],
   "source": [
    "#6\n",
    "%matplotlib inline\n",
    "import matplotlib.pyplot as plt\n",
    "import numpy as np\n",
    "\n",
    "#user choses image\n",
    "img = mpimg.imread('rocket.png')\n",
    "coor = np.array(img).shape\n",
    "width = coor[1]\n",
    "height = coor[0]\n",
    "\n",
    "\n",
    "def ntimes(n):\n",
    "    x = np.linspace(0, 1, n)\n",
    "    x.shape = (1,n)\n",
    "    return (x)\n",
    "def concat_arr(height, width):\n",
    "    base = ntimes(width)\n",
    "    for _ in range(0, height-1):\n",
    "        new = ntimes(width)\n",
    "        base = np.concatenate((base, new), axis=0)\n",
    "    return(base)\n",
    "\n",
    "final_array = concat_arr(width, height)\n",
    "\n",
    "rocket_img = mpimg.imread('rocket.png')\n",
    "plt.imshow(rocket_img)"
   ]
  },
  {
   "cell_type": "code",
   "execution_count": 213,
   "metadata": {},
   "outputs": [
    {
     "name": "stdout",
     "output_type": "stream",
     "text": [
      "(800, 600, 4)\n",
      "width:  600\n",
      "height:  800\n",
      "[[ 0.          0.00125156  0.00250313 ...,  0.99749687  0.99874844  1.        ]\n",
      " [ 0.          0.00125156  0.00250313 ...,  0.99749687  0.99874844  1.        ]\n",
      " [ 0.          0.00125156  0.00250313 ...,  0.99749687  0.99874844  1.        ]\n",
      " ..., \n",
      " [ 0.          0.00125156  0.00250313 ...,  0.99749687  0.99874844  1.        ]\n",
      " [ 0.          0.00125156  0.00250313 ...,  0.99749687  0.99874844  1.        ]\n",
      " [ 0.          0.00125156  0.00250313 ...,  0.99749687  0.99874844  1.        ]]\n",
      "600\n"
     ]
    },
    {
     "data": {
      "text/plain": [
       "<matplotlib.image.AxesImage at 0x7f16102fd0b8>"
      ]
     },
     "execution_count": 213,
     "metadata": {},
     "output_type": "execute_result"
    },
    {
     "data": {
      "image/png": "[encoded data removed]",
      "text/plain": [
       "<matplotlib.figure.Figure at 0x7f16104bee48>"
      ]
     },
     "metadata": {},
     "output_type": "display_data"
    }
   ],
   "source": [
    "#Part 2\n",
    "%matplotlib inline\n",
    "\n",
    "import matplotlib.pyplot as plt\n",
    "import numpy as np\n",
    "\n",
    "img = mpimg.imread('anchor.png')\n",
    "coor = np.array(img).shape\n",
    "width = coor[1]\n",
    "height = coor[0]\n",
    "print(coor)\n",
    "print(\"width: \", width)\n",
    "print(\"height: \", height)\n",
    "\n",
    "\n",
    "def ntimes(n):\n",
    "    x = np.linspace(0, 1, n)\n",
    "    x.shape = (1,n)\n",
    "    return (x)\n",
    "\n",
    "def concat_arr(height, width):\n",
    "    base = ntimes(width)\n",
    "    for _ in range(0, height-1):\n",
    "        new = ntimes(width)\n",
    "        base = np.concatenate((base, new), axis=0)\n",
    "    return(base)\n",
    "\n",
    "final_array = concat_arr(width, height)\n",
    "print(final_array)\n",
    "print(len(final_array))\n",
    "\n",
    "anchor_img = mpimg.imread('anchor.png')\n",
    "lum_img = anchor_img[:, :, 0]\n",
    "plt.imshow(lum_img)"
   ]
  },
  {
   "cell_type": "code",
   "execution_count": 266,
   "metadata": {},
   "outputs": [
    {
     "name": "stdout",
     "output_type": "stream",
     "text": [
      "(600, 800, 4)\n",
      "width:  800\n",
      "height:  600\n",
      "[[ 0.          0.00166945  0.0033389  ...,  0.9966611   0.99833055  1.        ]\n",
      " [ 0.          0.00166945  0.0033389  ...,  0.9966611   0.99833055  1.        ]\n",
      " [ 0.          0.00166945  0.0033389  ...,  0.9966611   0.99833055  1.        ]\n",
      " ..., \n",
      " [ 0.          0.00166945  0.0033389  ...,  0.9966611   0.99833055  1.        ]\n",
      " [ 0.          0.00166945  0.0033389  ...,  0.9966611   0.99833055  1.        ]\n",
      " [ 0.          0.00166945  0.0033389  ...,  0.9966611   0.99833055  1.        ]]\n",
      "800\n"
     ]
    },
    {
     "data": {
      "text/plain": [
       "<matplotlib.image.AxesImage at 0x7f160b2e5240>"
      ]
     },
     "execution_count": 266,
     "metadata": {},
     "output_type": "execute_result"
    },
    {
     "data": {
      "image/png": "[encoded data removed]",
      "text/plain": [
       "<matplotlib.figure.Figure at 0x7f160b3f9a20>"
      ]
     },
     "metadata": {},
     "output_type": "display_data"
    }
   ],
   "source": [
    "#Part2\n",
    "%matplotlib inline\n",
    "import matplotlib.pyplot as plt\n",
    "import numpy as np\n",
    "\n",
    "img = mpimg.imread('dice.png')\n",
    "coor = np.array(img).shape\n",
    "width = coor[1]\n",
    "height = coor[0]\n",
    "color = coor[2]\n",
    "print(coor)\n",
    "print(\"width: \", width)\n",
    "print(\"height: \", height)\n",
    "\n",
    "\n",
    "def ntimes(width_size):\n",
    "    x = np.linspace(0, 1, width_size)\n",
    "    x.shape = (1,width_size)\n",
    "    return (x)\n",
    "\n",
    "def concat_arr(height, width):\n",
    "    base = ntimes(width)\n",
    "    for _ in range(0, height-1):\n",
    "        new = ntimes(width)\n",
    "        base = np.concatenate((base, new), axis=0)\n",
    "    return(base)\n",
    "\n",
    "final_array = concat_arr(width, height)\n",
    "print(final_array)\n",
    "print(len(final_array))\n",
    "\n",
    "dice_img = mpimg.imread('dice.png')\n",
    "#plt.imshow(dice_img)\n",
    "lum_img = dice_img[:, :, 0]\n",
    "plt.imshow(lum_img)"
   ]
  },
  {
   "cell_type": "code",
   "execution_count": null,
   "metadata": {},
   "outputs": [],
   "source": []
  }
 ],
 "metadata": {
  "kernelspec": {
   "display_name": "Python 3",
   "language": "python",
   "name": "python3"
  },
  "language_info": {
   "codemirror_mode": {
    "name": "ipython",
    "version": 3
   },
   "file_extension": ".py",
   "mimetype": "text/x-python",
   "name": "python",
   "nbconvert_exporter": "python",
   "pygments_lexer": "ipython3",
   "version": "3.6.3"
  }
 },
 "nbformat": 4,
 "nbformat_minor": 2
}
